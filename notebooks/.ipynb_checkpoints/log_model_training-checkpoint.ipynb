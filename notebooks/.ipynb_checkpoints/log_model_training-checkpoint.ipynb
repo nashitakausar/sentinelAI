{
 "cells": [
  {
   "cell_type": "code",
   "execution_count": 9,
   "id": "b2d6936a-41e1-46bd-8ecd-73b9dd9c1789",
   "metadata": {},
   "outputs": [
    {
     "name": "stdout",
     "output_type": "stream",
     "text": [
      "[[0 0]\n",
      " [1 2]]\n",
      "              precision    recall  f1-score   support\n",
      "\n",
      "           0       0.00      0.00      0.00         0\n",
      "           1       1.00      0.67      0.80         3\n",
      "\n",
      "    accuracy                           0.67         3\n",
      "   macro avg       0.50      0.33      0.40         3\n",
      "weighted avg       1.00      0.67      0.80         3\n",
      "\n"
     ]
    },
    {
     "name": "stderr",
     "output_type": "stream",
     "text": [
      "C:\\Users\\nashi\\ai-cyber-threat-detector\\venv\\Lib\\site-packages\\sklearn\\metrics\\_classification.py:1731: UndefinedMetricWarning: Recall is ill-defined and being set to 0.0 in labels with no true samples. Use `zero_division` parameter to control this behavior.\n",
      "  _warn_prf(average, modifier, f\"{metric.capitalize()} is\", result.shape[0])\n",
      "C:\\Users\\nashi\\ai-cyber-threat-detector\\venv\\Lib\\site-packages\\sklearn\\metrics\\_classification.py:1731: UndefinedMetricWarning: Recall is ill-defined and being set to 0.0 in labels with no true samples. Use `zero_division` parameter to control this behavior.\n",
      "  _warn_prf(average, modifier, f\"{metric.capitalize()} is\", result.shape[0])\n",
      "C:\\Users\\nashi\\ai-cyber-threat-detector\\venv\\Lib\\site-packages\\sklearn\\metrics\\_classification.py:1731: UndefinedMetricWarning: Recall is ill-defined and being set to 0.0 in labels with no true samples. Use `zero_division` parameter to control this behavior.\n",
      "  _warn_prf(average, modifier, f\"{metric.capitalize()} is\", result.shape[0])\n"
     ]
    },
    {
     "name": "stdout",
     "output_type": "stream",
     "text": [
      "              precision    recall  f1-score   support\n",
      "\n",
      "           0       0.00      0.00      0.00         0\n",
      "           1       1.00      0.33      0.50         3\n",
      "\n",
      "    accuracy                           0.33         3\n",
      "   macro avg       0.50      0.17      0.25         3\n",
      "weighted avg       1.00      0.33      0.50         3\n",
      "\n"
     ]
    },
    {
     "name": "stderr",
     "output_type": "stream",
     "text": [
      "C:\\Users\\nashi\\ai-cyber-threat-detector\\venv\\Lib\\site-packages\\sklearn\\metrics\\_classification.py:1731: UndefinedMetricWarning: Recall is ill-defined and being set to 0.0 in labels with no true samples. Use `zero_division` parameter to control this behavior.\n",
      "  _warn_prf(average, modifier, f\"{metric.capitalize()} is\", result.shape[0])\n",
      "C:\\Users\\nashi\\ai-cyber-threat-detector\\venv\\Lib\\site-packages\\sklearn\\metrics\\_classification.py:1731: UndefinedMetricWarning: Recall is ill-defined and being set to 0.0 in labels with no true samples. Use `zero_division` parameter to control this behavior.\n",
      "  _warn_prf(average, modifier, f\"{metric.capitalize()} is\", result.shape[0])\n",
      "C:\\Users\\nashi\\ai-cyber-threat-detector\\venv\\Lib\\site-packages\\sklearn\\metrics\\_classification.py:1731: UndefinedMetricWarning: Recall is ill-defined and being set to 0.0 in labels with no true samples. Use `zero_division` parameter to control this behavior.\n",
      "  _warn_prf(average, modifier, f\"{metric.capitalize()} is\", result.shape[0])\n"
     ]
    }
   ],
   "source": [
    "import sys\n",
    "import os\n",
    "\n",
    "# Add the project root (one level up from 'notebooks') to the Python path\n",
    "sys.path.append(os.path.abspath(\"..\"))\n",
    "\n",
    "# Now import your function\n",
    "from app.utils import parse_log_file\n",
    "import pandas as pd\n",
    "\n",
    "# Load the parsed log data\n",
    "df = parse_log_file('../data/auth.log')\n",
    "df.head()\n",
    "\n",
    "\n",
    "#Second Cell\n",
    "from sklearn.model_selection import train_test_split\n",
    "from sklearn.preprocessing import LabelEncoder\n",
    "\n",
    "# Encode categorical features: user, IP, port\n",
    "df['user'] = LabelEncoder().fit_transform(df['user'])\n",
    "df['ip'] = LabelEncoder().fit_transform(df['ip'])\n",
    "df['port'] = df['port'].astype(int)\n",
    "\n",
    "# Features and label\n",
    "X = df[['user', 'ip', 'port']]\n",
    "y = df['label']\n",
    "\n",
    "# Train/test split\n",
    "X_train, X_test, y_train, y_test = X, X, y, y\n",
    "\n",
    "#Train Model A - random forest classifier\n",
    "from sklearn.ensemble import RandomForestClassifier\n",
    "from sklearn.metrics import classification_report, confusion_matrix\n",
    "\n",
    "# Train\n",
    "clf = RandomForestClassifier(n_estimators=100, random_state=42)\n",
    "clf.fit(X_train, y_train)\n",
    "\n",
    "# Predict\n",
    "y_pred = clf.predict(X_test)\n",
    "\n",
    "# Evaluate\n",
    "print(confusion_matrix(y_test, y_pred))\n",
    "print(classification_report(y_test, y_pred))\n",
    "\n",
    "#Train model B - isolation forest (anomaly detection)\n",
    "from sklearn.ensemble import IsolationForest\n",
    "\n",
    "# Isolation Forest works on unlabeled data\n",
    "iso_model = IsolationForest(contamination=0.3, random_state=42)\n",
    "iso_model.fit(X_train)\n",
    "\n",
    "# Predict: -1 = anomaly, 1 = normal\n",
    "iso_preds = iso_model.predict(X_test)\n",
    "\n",
    "# Convert to 0/1: 1 (normal) -> 0 (not threat), -1 (anomaly) -> 1 (threat)\n",
    "iso_preds = [1 if p == -1 else 0 for p in iso_preds]\n",
    "\n",
    "print(classification_report(y_test, iso_preds))\n"
   ]
  },
  {
   "cell_type": "code",
   "execution_count": null,
   "id": "1cafc2ab-5382-4c94-8d08-11c62dab6d67",
   "metadata": {},
   "outputs": [],
   "source": []
  },
  {
   "cell_type": "code",
   "execution_count": null,
   "id": "b7c03a40-3d1c-4563-ac69-1b1aff949e57",
   "metadata": {},
   "outputs": [],
   "source": []
  }
 ],
 "metadata": {
  "kernelspec": {
   "display_name": "Python (venv)",
   "language": "python",
   "name": "venv"
  },
  "language_info": {
   "codemirror_mode": {
    "name": "ipython",
    "version": 3
   },
   "file_extension": ".py",
   "mimetype": "text/x-python",
   "name": "python",
   "nbconvert_exporter": "python",
   "pygments_lexer": "ipython3",
   "version": "3.13.2"
  }
 },
 "nbformat": 4,
 "nbformat_minor": 5
}
