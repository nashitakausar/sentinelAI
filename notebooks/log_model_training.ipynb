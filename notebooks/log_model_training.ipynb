{
 "cells": [
  {
   "cell_type": "code",
   "execution_count": 2,
   "id": "b2d6936a-41e1-46bd-8ecd-73b9dd9c1789",
   "metadata": {},
   "outputs": [
    {
     "data": {
      "text/html": [
       "<div>\n",
       "<style scoped>\n",
       "    .dataframe tbody tr th:only-of-type {\n",
       "        vertical-align: middle;\n",
       "    }\n",
       "\n",
       "    .dataframe tbody tr th {\n",
       "        vertical-align: top;\n",
       "    }\n",
       "\n",
       "    .dataframe thead th {\n",
       "        text-align: right;\n",
       "    }\n",
       "</style>\n",
       "<table border=\"1\" class=\"dataframe\">\n",
       "  <thead>\n",
       "    <tr style=\"text-align: right;\">\n",
       "      <th></th>\n",
       "      <th>timestamp</th>\n",
       "      <th>status</th>\n",
       "      <th>user</th>\n",
       "      <th>ip</th>\n",
       "      <th>port</th>\n",
       "      <th>label</th>\n",
       "    </tr>\n",
       "  </thead>\n",
       "  <tbody>\n",
       "    <tr>\n",
       "      <th>0</th>\n",
       "      <td>Jul 23 21:00:01</td>\n",
       "      <td>Accepted</td>\n",
       "      <td>devops</td>\n",
       "      <td>192.168.1.10</td>\n",
       "      <td>2244</td>\n",
       "      <td>0</td>\n",
       "    </tr>\n",
       "    <tr>\n",
       "      <th>1</th>\n",
       "      <td>Jul 23 21:00:05</td>\n",
       "      <td>Failed</td>\n",
       "      <td>hacker</td>\n",
       "      <td>45.23.56.12</td>\n",
       "      <td>5577</td>\n",
       "      <td>1</td>\n",
       "    </tr>\n",
       "    <tr>\n",
       "      <th>2</th>\n",
       "      <td>Jul 23 21:00:10</td>\n",
       "      <td>Failed</td>\n",
       "      <td>root</td>\n",
       "      <td>45.23.56.12</td>\n",
       "      <td>5580</td>\n",
       "      <td>1</td>\n",
       "    </tr>\n",
       "    <tr>\n",
       "      <th>3</th>\n",
       "      <td>Jul 23 21:00:12</td>\n",
       "      <td>Failed</td>\n",
       "      <td>root</td>\n",
       "      <td>45.23.56.12</td>\n",
       "      <td>5582</td>\n",
       "      <td>1</td>\n",
       "    </tr>\n",
       "    <tr>\n",
       "      <th>4</th>\n",
       "      <td>Jul 23 21:00:14</td>\n",
       "      <td>Failed</td>\n",
       "      <td>test</td>\n",
       "      <td>45.23.56.12</td>\n",
       "      <td>5585</td>\n",
       "      <td>1</td>\n",
       "    </tr>\n",
       "  </tbody>\n",
       "</table>\n",
       "</div>"
      ],
      "text/plain": [
       "         timestamp    status    user            ip  port  label\n",
       "0  Jul 23 21:00:01  Accepted  devops  192.168.1.10  2244      0\n",
       "1  Jul 23 21:00:05    Failed  hacker   45.23.56.12  5577      1\n",
       "2  Jul 23 21:00:10    Failed    root   45.23.56.12  5580      1\n",
       "3  Jul 23 21:00:12    Failed    root   45.23.56.12  5582      1\n",
       "4  Jul 23 21:00:14    Failed    test   45.23.56.12  5585      1"
      ]
     },
     "execution_count": 2,
     "metadata": {},
     "output_type": "execute_result"
    }
   ],
   "source": [
    "import sys\n",
    "import os\n",
    "\n",
    "# Add the project root (one level up from 'notebooks') to the Python path\n",
    "sys.path.append(os.path.abspath(\"..\"))\n",
    "\n",
    "# Now import your function\n",
    "from app.utils import parse_log_file\n",
    "import pandas as pd\n",
    "\n",
    "# Load the parsed log data\n",
    "df = parse_log_file('../data/auth.log')\n",
    "df.head()"
   ]
  },
  {
   "cell_type": "code",
   "execution_count": 3,
   "id": "1cafc2ab-5382-4c94-8d08-11c62dab6d67",
   "metadata": {},
   "outputs": [],
   "source": [
    "#Second Cell\n",
    "from sklearn.model_selection import train_test_split\n",
    "from sklearn.preprocessing import LabelEncoder\n",
    "\n",
    "# Encode categorical features: user, IP, port\n",
    "df['user'] = LabelEncoder().fit_transform(df['user'])\n",
    "df['ip'] = LabelEncoder().fit_transform(df['ip'])\n",
    "df['port'] = df['port'].astype(int)\n",
    "\n",
    "# Features and label\n",
    "X = df[['user', 'ip', 'port']]\n",
    "y = df['label']\n",
    "\n",
    "# Train/test split\n",
    "X_train, X_test, y_train, y_test = train_test_split(X, y, test_size=0.3, random_state=42)"
   ]
  },
  {
   "cell_type": "code",
   "execution_count": 4,
   "id": "b7c03a40-3d1c-4563-ac69-1b1aff949e57",
   "metadata": {},
   "outputs": [
    {
     "name": "stdout",
     "output_type": "stream",
     "text": [
      "[[ 1  0]\n",
      " [ 0 14]]\n",
      "              precision    recall  f1-score   support\n",
      "\n",
      "           0       1.00      1.00      1.00         1\n",
      "           1       1.00      1.00      1.00        14\n",
      "\n",
      "    accuracy                           1.00        15\n",
      "   macro avg       1.00      1.00      1.00        15\n",
      "weighted avg       1.00      1.00      1.00        15\n",
      "\n"
     ]
    }
   ],
   "source": [
    "#Train Model A - random forest classifier\n",
    "from sklearn.ensemble import RandomForestClassifier\n",
    "from sklearn.metrics import classification_report, confusion_matrix\n",
    "\n",
    "# Train\n",
    "clf = RandomForestClassifier(n_estimators=100, random_state=42)\n",
    "clf.fit(X_train, y_train)\n",
    "\n",
    "# Predict\n",
    "y_pred = clf.predict(X_test)\n",
    "\n",
    "# Evaluate\n",
    "print(confusion_matrix(y_test, y_pred))\n",
    "print(classification_report(y_test, y_pred))"
   ]
  },
  {
   "cell_type": "code",
   "execution_count": 5,
   "id": "6752339b-282d-41e3-a3f3-8056e6f66d8a",
   "metadata": {},
   "outputs": [
    {
     "name": "stdout",
     "output_type": "stream",
     "text": [
      "              precision    recall  f1-score   support\n",
      "\n",
      "           0       0.10      1.00      0.18         1\n",
      "           1       1.00      0.36      0.53        14\n",
      "\n",
      "    accuracy                           0.40        15\n",
      "   macro avg       0.55      0.68      0.35        15\n",
      "weighted avg       0.94      0.40      0.50        15\n",
      "\n"
     ]
    }
   ],
   "source": [
    "#Train model B - isolation forest (anomaly detection)\n",
    "from sklearn.ensemble import IsolationForest\n",
    "\n",
    "# Isolation Forest works on unlabeled data\n",
    "iso_model = IsolationForest(contamination=0.3, random_state=42)\n",
    "iso_model.fit(X_train)\n",
    "\n",
    "# Predict: -1 = anomaly, 1 = normal\n",
    "iso_preds = iso_model.predict(X_test)\n",
    "\n",
    "# Convert to 0/1: 1 (normal) -> 0 (not threat), -1 (anomaly) -> 1 (threat)\n",
    "iso_preds = [1 if p == -1 else 0 for p in iso_preds]\n",
    "\n",
    "print(classification_report(y_test, iso_preds))\n"
   ]
  },
  {
   "cell_type": "code",
   "execution_count": 6,
   "id": "d99addb7-1683-48ee-8306-831670f6f05f",
   "metadata": {},
   "outputs": [
    {
     "data": {
      "text/plain": [
       "['../models/best_model.pkl']"
      ]
     },
     "execution_count": 6,
     "metadata": {},
     "output_type": "execute_result"
    }
   ],
   "source": [
    "import joblib\n",
    "\n",
    "# Save model to a file\n",
    "joblib.dump(clf, '../models/best_model.pkl')\n"
   ]
  },
  {
   "cell_type": "code",
   "execution_count": null,
   "id": "a40eff47-cae3-410c-8302-8b2ac934773c",
   "metadata": {},
   "outputs": [],
   "source": []
  }
 ],
 "metadata": {
  "kernelspec": {
   "display_name": "Python (venv)",
   "language": "python",
   "name": "venv"
  },
  "language_info": {
   "codemirror_mode": {
    "name": "ipython",
    "version": 3
   },
   "file_extension": ".py",
   "mimetype": "text/x-python",
   "name": "python",
   "nbconvert_exporter": "python",
   "pygments_lexer": "ipython3",
   "version": "3.13.2"
  }
 },
 "nbformat": 4,
 "nbformat_minor": 5
}
